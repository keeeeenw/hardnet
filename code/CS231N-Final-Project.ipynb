{
 "cells": [
  {
   "cell_type": "markdown",
   "metadata": {},
   "source": [
    "# Setup"
   ]
  },
  {
   "cell_type": "code",
   "execution_count": 3,
   "metadata": {},
   "outputs": [
    {
     "name": "stdout",
     "output_type": "stream",
     "text": [
      "The autoreload extension is already loaded. To reload it, use:\n",
      "  %reload_ext autoreload\n"
     ]
    }
   ],
   "source": [
    "# Setup auto reload\n",
    "%load_ext autoreload\n",
    "%autoreload 2\n",
    "# Resolve display issue\n",
    "%matplotlib inline\n",
    "\n",
    "import os\n",
    "\n",
    "project_root = '/home/ken/workspace/image-matching-benchmark-baselines/third_party/hardnet'\n",
    "w1bsroot = project_root + \"/data/sets\"\n",
    "dataroot = w1bsroot\n",
    "log_dir = project_root + \"/data/logs\""
   ]
  },
  {
   "cell_type": "markdown",
   "metadata": {},
   "source": [
    "# Model Training"
   ]
  },
  {
   "cell_type": "code",
   "execution_count": null,
   "metadata": {},
   "outputs": [],
   "source": [
    "# # Import all modules\n",
    "# from HardNet import TrainHardNet, ResHardNet\n",
    "# import os\n",
    "\n",
    "# # result of http://35.192.144.192:8000/arg2cls.html \n",
    "# class Args:\n",
    "#     fff = '1'\n",
    "#     w1bsroot = 'data/sets/wxbs-descriptors-benchmark/code/'\n",
    "#     dataroot = 'data/sets/'\n",
    "#     enable_logging = False\n",
    "#     log_dir = 'data/logs/'\n",
    "#     model_dir = 'data/models/'\n",
    "#     experiment_name = 'liberty_train/'\n",
    "#     training_set = 'liberty'\n",
    "#     loss = 'triplet_margin'\n",
    "#     batch_reduce = 'min'\n",
    "#     num_workers = 0\n",
    "#     pin_memory = True\n",
    "#     decor = False\n",
    "#     anchorave = False\n",
    "#     imageSize = 32\n",
    "#     mean_image = 0.443728476019\n",
    "#     std_image = 0.20197947209\n",
    "#     resume = ''\n",
    "#     start_epoch = 0\n",
    "#     epochs = 10\n",
    "#     anchorswap = True\n",
    "#     batch_size = 1024\n",
    "#     test_batch_size = 1024\n",
    "#     n_triplets = 5000000\n",
    "#     margin = 1.0\n",
    "#     gor = False\n",
    "#     freq = 10.0\n",
    "#     alpha = 1.0\n",
    "#     lr = 10.0\n",
    "#     fliprot = True\n",
    "#     augmentation = False\n",
    "#     lr_decay = 1e-6\n",
    "#     wd = 1e-4\n",
    "#     optimizer = 'sgd'\n",
    "#     no_cuda = False\n",
    "#     gpu_id = '0'\n",
    "#     seed = 0\n",
    "#     log_interval = 10\n",
    "#     model_variant = 'hardnet'\n",
    "    \n",
    "\n",
    "# args=Args()"
   ]
  },
  {
   "cell_type": "code",
   "execution_count": null,
   "metadata": {},
   "outputs": [],
   "source": [
    "# args.w1bsroot = w1bsroot\n",
    "# args.dataroot = dataroot\n",
    "# args.log_dir = project_root + \"/data/logs/jupiter/\"\n",
    "# args.no_cuda = True\n",
    "# args.model_variant = 'reshardnet'\n",
    "\n",
    "# runner = TrainHardNet(args)\n",
    "# runner.run()"
   ]
  },
  {
   "cell_type": "markdown",
   "metadata": {},
   "source": [
    "# Model Results"
   ]
  },
  {
   "cell_type": "code",
   "execution_count": 17,
   "metadata": {},
   "outputs": [
    {
     "data": {
      "text/plain": [
       "<matplotlib.image.AxesImage at 0x7fa889bdcf50>"
      ]
     },
     "execution_count": 17,
     "metadata": {},
     "output_type": "execute_result"
    },
    {
     "data": {
      "image/png": "[encoded data removed]",
      "text/plain": [
       "<Figure size 432x288 with 1 Axes>"
      ]
     },
     "metadata": {
      "needs_background": "light"
     },
     "output_type": "display_data"
    }
   ],
   "source": [
    "dataset_name='liberty'\n",
    "plot_file_name = 'Total_SNN_ratio.eps'\n",
    "results_folder = os.path.join(log_dir, dataset_name + \"_train_with_aug\", \"_\" + dataset_name + \"_min\", \"out_graphs\")\n",
    "plot_file_path = os.path.join(results_folder, plot_file_name)\n",
    "\n",
    "from PIL import Image\n",
    "import matplotlib.pyplot as plt\n",
    "\n",
    "result_plot = Image.open(plot_file_path)\n",
    "fig, ax = plt.subplots()\n",
    "ax.imshow(result_plot)"
   ]
  },
  {
   "cell_type": "code",
   "execution_count": null,
   "metadata": {},
   "outputs": [],
   "source": []
  }
 ],
 "metadata": {
  "kernelspec": {
   "display_name": "Python 3",
   "language": "python",
   "name": "python3"
  },
  "language_info": {
   "codemirror_mode": {
    "name": "ipython",
    "version": 3
   },
   "file_extension": ".py",
   "mimetype": "text/x-python",
   "name": "python",
   "nbconvert_exporter": "python",
   "pygments_lexer": "ipython3",
   "version": "3.7.4"
  }
 },
 "nbformat": 4,
 "nbformat_minor": 2
}
